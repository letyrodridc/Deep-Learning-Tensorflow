{
  "nbformat": 4,
  "nbformat_minor": 0,
  "metadata": {
    "colab": {
      "name": "9-Dropout.ipynb",
      "provenance": [],
      "collapsed_sections": []
    },
    "kernelspec": {
      "name": "python3",
      "display_name": "Python 3"
    },
    "language_info": {
      "name": "python"
    }
  },
  "cells": [
    {
      "cell_type": "markdown",
      "source": [
        "This is a code for TF 2.0\n",
        "First, we are going to import tensorflow."
      ],
      "metadata": {
        "id": "IaNhaDnJraH7"
      }
    },
    {
      "cell_type": "code",
      "execution_count": null,
      "metadata": {
        "id": "ccK2IPUnq_qP"
      },
      "outputs": [],
      "source": [
        "import tensorflow as tf"
      ]
    },
    {
      "cell_type": "markdown",
      "source": [
        "Then, we create the weights. This is a two layers network."
      ],
      "metadata": {
        "id": "FouH2C8yresN"
      }
    },
    {
      "cell_type": "code",
      "source": [
        "hidden_layer_weights = [\n",
        "  [0.1, 0.2, 0.4],\n",
        "  [0.4, 0.6, 0.6],\n",
        "  [0.5, 0.9, 0.1],\n",
        "  [0.8, 0.2, 0.8]\n",
        "]\n",
        "\n",
        "out_weights = [\n",
        "  [0.1, 0.6],\n",
        "  [0.2, 0.1],\n",
        "  [0.7, 0.9]\n",
        "]\n",
        "\n",
        "\n",
        "weights = [\n",
        "  tf.Variable(hidden_layer_weights),\n",
        "  tf.Variable(out_weights)\n",
        "]\n",
        "\n",
        "biases = [\n",
        "  tf.Variable(tf.zeros(3)),\n",
        "  tf.Variable(tf.zeros(2))\n",
        "]\n",
        "\n",
        "\n"
      ],
      "metadata": {
        "id": "peTkPW4grHne"
      },
      "execution_count": null,
      "outputs": []
    },
    {
      "cell_type": "markdown",
      "source": [
        "Input creation\n"
      ],
      "metadata": {
        "id": "hdRyW6edw96R"
      }
    },
    {
      "cell_type": "code",
      "source": [
        "features = tf.Variable([[0.0, 2.0, 3.0, 4.0], [0.1, 0.2, 0.3, 0.4], [11.0, 12.0, 13.0, 14.0]])"
      ],
      "metadata": {
        "id": "fkGxqaqUxAmF"
      },
      "execution_count": 33,
      "outputs": []
    },
    {
      "cell_type": "markdown",
      "source": [
        "Model creation"
      ],
      "metadata": {
        "id": "XOpQKs5bwv7v"
      }
    },
    {
      "cell_type": "code",
      "source": [
        "@tf.function\n",
        "def model_run(dval):\n",
        "  hidden_layer = tf.add(tf.matmul(features, weights[0]), biases[0])\n",
        "  hidden_layer = tf.nn.relu(hidden_layer)\n",
        "  hidden_layer = tf.nn.dropout(hidden_layer, dval)\n",
        "\n",
        "  logits = tf.add(tf.matmul(hidden_layer, weights[1]), biases[1])\n",
        "\n",
        "  return logits"
      ],
      "metadata": {
        "id": "W24wNevdw8Bu"
      },
      "execution_count": 36,
      "outputs": []
    },
    {
      "cell_type": "markdown",
      "source": [
        "Create a session and run the model"
      ],
      "metadata": {
        "id": "ZjTHQAFE-qmn"
      }
    },
    {
      "cell_type": "code",
      "source": [
        "output = model_run(0.5)\n",
        "\n",
        "print(output)"
      ],
      "metadata": {
        "colab": {
          "base_uri": "https://localhost:8080/"
        },
        "id": "K3OhmF3t-qQm",
        "outputId": "5255534c-9eae-4694-ad36-521dc67bb599"
      },
      "execution_count": 46,
      "outputs": [
        {
          "output_type": "stream",
          "name": "stdout",
          "text": [
            "tf.Tensor(\n",
            "[[ 1.1        6.6000004]\n",
            " [ 0.         0.       ]\n",
            " [33.74      43.38     ]], shape=(3, 2), dtype=float32)\n"
          ]
        }
      ]
    }
  ]
}